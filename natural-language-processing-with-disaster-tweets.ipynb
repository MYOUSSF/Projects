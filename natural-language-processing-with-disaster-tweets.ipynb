{
 "cells": [
  {
   "cell_type": "code",
   "execution_count": 1,
   "id": "9419cbc0",
   "metadata": {
    "_cell_guid": "b1076dfc-b9ad-4769-8c92-a6c4dae69d19",
    "_uuid": "8f2839f25d086af736a60e9eeb907d3b93b6e0e5",
    "execution": {
     "iopub.execute_input": "2023-03-07T01:00:14.410703Z",
     "iopub.status.busy": "2023-03-07T01:00:14.409727Z",
     "iopub.status.idle": "2023-03-07T01:00:15.813616Z",
     "shell.execute_reply": "2023-03-07T01:00:15.812331Z"
    },
    "papermill": {
     "duration": 1.415569,
     "end_time": "2023-03-07T01:00:15.816851",
     "exception": false,
     "start_time": "2023-03-07T01:00:14.401282",
     "status": "completed"
    },
    "tags": []
   },
   "outputs": [],
   "source": [
    "import pandas as pd \n",
    "import numpy as np \n",
    "\n",
    "from sklearn import feature_extraction, linear_model, model_selection"
   ]
  },
  {
   "cell_type": "code",
   "execution_count": 2,
   "id": "7bbde3cb",
   "metadata": {
    "execution": {
     "iopub.execute_input": "2023-03-07T01:00:15.830416Z",
     "iopub.status.busy": "2023-03-07T01:00:15.828874Z",
     "iopub.status.idle": "2023-03-07T01:00:15.914050Z",
     "shell.execute_reply": "2023-03-07T01:00:15.912162Z"
    },
    "papermill": {
     "duration": 0.095144,
     "end_time": "2023-03-07T01:00:15.917292",
     "exception": false,
     "start_time": "2023-03-07T01:00:15.822148",
     "status": "completed"
    },
    "tags": []
   },
   "outputs": [],
   "source": [
    "data = pd.read_csv(\"/kaggle/input/nlp-getting-started/train.csv\")\n",
    "test = pd.read_csv(\"/kaggle/input/nlp-getting-started/test.csv\")"
   ]
  },
  {
   "cell_type": "markdown",
   "id": "f445bf08",
   "metadata": {
    "papermill": {
     "duration": 0.004634,
     "end_time": "2023-03-07T01:00:15.927072",
     "exception": false,
     "start_time": "2023-03-07T01:00:15.922438",
     "status": "completed"
    },
    "tags": []
   },
   "source": [
    "# Explore data"
   ]
  },
  {
   "cell_type": "code",
   "execution_count": 3,
   "id": "eb8faaab",
   "metadata": {
    "execution": {
     "iopub.execute_input": "2023-03-07T01:00:15.939609Z",
     "iopub.status.busy": "2023-03-07T01:00:15.938640Z",
     "iopub.status.idle": "2023-03-07T01:00:15.974598Z",
     "shell.execute_reply": "2023-03-07T01:00:15.973027Z"
    },
    "papermill": {
     "duration": 0.046401,
     "end_time": "2023-03-07T01:00:15.978525",
     "exception": false,
     "start_time": "2023-03-07T01:00:15.932124",
     "status": "completed"
    },
    "tags": []
   },
   "outputs": [
    {
     "data": {
      "text/html": [
       "<div>\n",
       "<style scoped>\n",
       "    .dataframe tbody tr th:only-of-type {\n",
       "        vertical-align: middle;\n",
       "    }\n",
       "\n",
       "    .dataframe tbody tr th {\n",
       "        vertical-align: top;\n",
       "    }\n",
       "\n",
       "    .dataframe thead th {\n",
       "        text-align: right;\n",
       "    }\n",
       "</style>\n",
       "<table border=\"1\" class=\"dataframe\">\n",
       "  <thead>\n",
       "    <tr style=\"text-align: right;\">\n",
       "      <th></th>\n",
       "      <th>id</th>\n",
       "      <th>keyword</th>\n",
       "      <th>location</th>\n",
       "      <th>text</th>\n",
       "      <th>target</th>\n",
       "    </tr>\n",
       "  </thead>\n",
       "  <tbody>\n",
       "    <tr>\n",
       "      <th>0</th>\n",
       "      <td>1</td>\n",
       "      <td>NaN</td>\n",
       "      <td>NaN</td>\n",
       "      <td>Our Deeds are the Reason of this #earthquake M...</td>\n",
       "      <td>1</td>\n",
       "    </tr>\n",
       "    <tr>\n",
       "      <th>1</th>\n",
       "      <td>4</td>\n",
       "      <td>NaN</td>\n",
       "      <td>NaN</td>\n",
       "      <td>Forest fire near La Ronge Sask. Canada</td>\n",
       "      <td>1</td>\n",
       "    </tr>\n",
       "    <tr>\n",
       "      <th>2</th>\n",
       "      <td>5</td>\n",
       "      <td>NaN</td>\n",
       "      <td>NaN</td>\n",
       "      <td>All residents asked to 'shelter in place' are ...</td>\n",
       "      <td>1</td>\n",
       "    </tr>\n",
       "    <tr>\n",
       "      <th>3</th>\n",
       "      <td>6</td>\n",
       "      <td>NaN</td>\n",
       "      <td>NaN</td>\n",
       "      <td>13,000 people receive #wildfires evacuation or...</td>\n",
       "      <td>1</td>\n",
       "    </tr>\n",
       "    <tr>\n",
       "      <th>4</th>\n",
       "      <td>7</td>\n",
       "      <td>NaN</td>\n",
       "      <td>NaN</td>\n",
       "      <td>Just got sent this photo from Ruby #Alaska as ...</td>\n",
       "      <td>1</td>\n",
       "    </tr>\n",
       "  </tbody>\n",
       "</table>\n",
       "</div>"
      ],
      "text/plain": [
       "   id keyword location                                               text  \\\n",
       "0   1     NaN      NaN  Our Deeds are the Reason of this #earthquake M...   \n",
       "1   4     NaN      NaN             Forest fire near La Ronge Sask. Canada   \n",
       "2   5     NaN      NaN  All residents asked to 'shelter in place' are ...   \n",
       "3   6     NaN      NaN  13,000 people receive #wildfires evacuation or...   \n",
       "4   7     NaN      NaN  Just got sent this photo from Ruby #Alaska as ...   \n",
       "\n",
       "   target  \n",
       "0       1  \n",
       "1       1  \n",
       "2       1  \n",
       "3       1  \n",
       "4       1  "
      ]
     },
     "execution_count": 3,
     "metadata": {},
     "output_type": "execute_result"
    }
   ],
   "source": [
    "data.head()"
   ]
  },
  {
   "cell_type": "code",
   "execution_count": 4,
   "id": "f29081e6",
   "metadata": {
    "execution": {
     "iopub.execute_input": "2023-03-07T01:00:15.991790Z",
     "iopub.status.busy": "2023-03-07T01:00:15.991291Z",
     "iopub.status.idle": "2023-03-07T01:00:16.024946Z",
     "shell.execute_reply": "2023-03-07T01:00:16.023324Z"
    },
    "papermill": {
     "duration": 0.044038,
     "end_time": "2023-03-07T01:00:16.028113",
     "exception": false,
     "start_time": "2023-03-07T01:00:15.984075",
     "status": "completed"
    },
    "tags": []
   },
   "outputs": [
    {
     "name": "stdout",
     "output_type": "stream",
     "text": [
      "<class 'pandas.core.frame.DataFrame'>\n",
      "RangeIndex: 7613 entries, 0 to 7612\n",
      "Data columns (total 5 columns):\n",
      " #   Column    Non-Null Count  Dtype \n",
      "---  ------    --------------  ----- \n",
      " 0   id        7613 non-null   int64 \n",
      " 1   keyword   7552 non-null   object\n",
      " 2   location  5080 non-null   object\n",
      " 3   text      7613 non-null   object\n",
      " 4   target    7613 non-null   int64 \n",
      "dtypes: int64(2), object(3)\n",
      "memory usage: 297.5+ KB\n"
     ]
    }
   ],
   "source": [
    "data.info()"
   ]
  },
  {
   "cell_type": "markdown",
   "id": "a3c472fc",
   "metadata": {
    "papermill": {
     "duration": 0.004874,
     "end_time": "2023-03-07T01:00:16.038378",
     "exception": false,
     "start_time": "2023-03-07T01:00:16.033504",
     "status": "completed"
    },
    "tags": []
   },
   "source": [
    "# See if there are any missing values"
   ]
  },
  {
   "cell_type": "code",
   "execution_count": 5,
   "id": "96ee37e8",
   "metadata": {
    "execution": {
     "iopub.execute_input": "2023-03-07T01:00:16.051087Z",
     "iopub.status.busy": "2023-03-07T01:00:16.050597Z",
     "iopub.status.idle": "2023-03-07T01:00:16.059481Z",
     "shell.execute_reply": "2023-03-07T01:00:16.058427Z"
    },
    "papermill": {
     "duration": 0.018361,
     "end_time": "2023-03-07T01:00:16.062037",
     "exception": false,
     "start_time": "2023-03-07T01:00:16.043676",
     "status": "completed"
    },
    "tags": []
   },
   "outputs": [
    {
     "data": {
      "text/plain": [
       "0"
      ]
     },
     "execution_count": 5,
     "metadata": {},
     "output_type": "execute_result"
    }
   ],
   "source": [
    "data['text'].isnull().sum()"
   ]
  },
  {
   "cell_type": "markdown",
   "id": "2e215590",
   "metadata": {
    "papermill": {
     "duration": 0.005097,
     "end_time": "2023-03-07T01:00:16.073088",
     "exception": false,
     "start_time": "2023-03-07T01:00:16.067991",
     "status": "completed"
    },
    "tags": []
   },
   "source": [
    "# Separate the output from the features.\n",
    "Since we don't care about location, we'll drop the **location** column from the data. Although it would be interesting to do a geospatial analysis of the tweets. "
   ]
  },
  {
   "cell_type": "code",
   "execution_count": 6,
   "id": "a28a3bc4",
   "metadata": {
    "execution": {
     "iopub.execute_input": "2023-03-07T01:00:16.086944Z",
     "iopub.status.busy": "2023-03-07T01:00:16.085675Z",
     "iopub.status.idle": "2023-03-07T01:00:16.094130Z",
     "shell.execute_reply": "2023-03-07T01:00:16.092668Z"
    },
    "papermill": {
     "duration": 0.018566,
     "end_time": "2023-03-07T01:00:16.097143",
     "exception": false,
     "start_time": "2023-03-07T01:00:16.078577",
     "status": "completed"
    },
    "tags": []
   },
   "outputs": [],
   "source": [
    "X = data['text']\n",
    "y = data['target']"
   ]
  },
  {
   "cell_type": "markdown",
   "id": "64627a60",
   "metadata": {
    "papermill": {
     "duration": 0.005656,
     "end_time": "2023-03-07T01:00:16.108543",
     "exception": false,
     "start_time": "2023-03-07T01:00:16.102887",
     "status": "completed"
    },
    "tags": []
   },
   "source": [
    "# Split the data"
   ]
  },
  {
   "cell_type": "code",
   "execution_count": 7,
   "id": "fceba02c",
   "metadata": {
    "execution": {
     "iopub.execute_input": "2023-03-07T01:00:16.122437Z",
     "iopub.status.busy": "2023-03-07T01:00:16.122020Z",
     "iopub.status.idle": "2023-03-07T01:00:16.133883Z",
     "shell.execute_reply": "2023-03-07T01:00:16.132497Z"
    },
    "papermill": {
     "duration": 0.02276,
     "end_time": "2023-03-07T01:00:16.137168",
     "exception": false,
     "start_time": "2023-03-07T01:00:16.114408",
     "status": "completed"
    },
    "tags": []
   },
   "outputs": [],
   "source": [
    "from sklearn.model_selection import train_test_split\n",
    "X_train, X_val, y_train, y_val = train_test_split(X, y, test_size=0.3, random_state=42)"
   ]
  },
  {
   "cell_type": "markdown",
   "id": "f0a852bc",
   "metadata": {
    "papermill": {
     "duration": 0.005507,
     "end_time": "2023-03-07T01:00:16.148359",
     "exception": false,
     "start_time": "2023-03-07T01:00:16.142852",
     "status": "completed"
    },
    "tags": []
   },
   "source": [
    "# Vectorization of the text"
   ]
  },
  {
   "cell_type": "code",
   "execution_count": 8,
   "id": "cf0358b5",
   "metadata": {
    "execution": {
     "iopub.execute_input": "2023-03-07T01:00:16.161690Z",
     "iopub.status.busy": "2023-03-07T01:00:16.161221Z",
     "iopub.status.idle": "2023-03-07T01:00:16.353419Z",
     "shell.execute_reply": "2023-03-07T01:00:16.351843Z"
    },
    "papermill": {
     "duration": 0.202678,
     "end_time": "2023-03-07T01:00:16.356749",
     "exception": false,
     "start_time": "2023-03-07T01:00:16.154071",
     "status": "completed"
    },
    "tags": []
   },
   "outputs": [],
   "source": [
    "from sklearn.feature_extraction.text import TfidfVectorizer\n",
    "\n",
    "vectorizer = TfidfVectorizer(\n",
    "        sublinear_tf=True, max_df=0.5, min_df=5, stop_words=\"english\"\n",
    "    )\n",
    "X1 = vectorizer.fit_transform(X_train)\n",
    "X1_val = vectorizer.transform(X_val)"
   ]
  },
  {
   "cell_type": "markdown",
   "id": "0543672e",
   "metadata": {
    "papermill": {
     "duration": 0.005306,
     "end_time": "2023-03-07T01:00:16.367672",
     "exception": false,
     "start_time": "2023-03-07T01:00:16.362366",
     "status": "completed"
    },
    "tags": []
   },
   "source": [
    "# 7 different classification models \n",
    "We'll use 7 different classification models and get performance results for each model"
   ]
  },
  {
   "cell_type": "code",
   "execution_count": 9,
   "id": "63de8324",
   "metadata": {
    "execution": {
     "iopub.execute_input": "2023-03-07T01:00:16.382654Z",
     "iopub.status.busy": "2023-03-07T01:00:16.381682Z",
     "iopub.status.idle": "2023-03-07T01:00:16.392083Z",
     "shell.execute_reply": "2023-03-07T01:00:16.390536Z"
    },
    "papermill": {
     "duration": 0.021566,
     "end_time": "2023-03-07T01:00:16.394863",
     "exception": false,
     "start_time": "2023-03-07T01:00:16.373297",
     "status": "completed"
    },
    "tags": []
   },
   "outputs": [],
   "source": [
    "from sklearn.utils.extmath import density\n",
    "from sklearn import metrics\n",
    "\n",
    "\n",
    "def benchmark(clf, custom_name=False):\n",
    "    print(\"_\" * 80)\n",
    "    print(\"Training: \")\n",
    "    print(clf)\n",
    "    t0 = time()\n",
    "    clf.fit(X1, y_train)\n",
    "    train_time = time() - t0\n",
    "    print(f\"train time: {train_time:.3}s\")\n",
    "\n",
    "    t0 = time()\n",
    "    pred = clf.predict(X1_val)\n",
    "    test_time = time() - t0\n",
    "    print(f\"test time:  {test_time:.3}s\")\n",
    "\n",
    "    score = metrics.accuracy_score(y_val, pred)\n",
    "    print(f\"accuracy:   {score:.3}\")\n",
    "\n",
    "    if hasattr(clf, \"coef_\"):\n",
    "        print(f\"dimensionality: {clf.coef_.shape[1]}\")\n",
    "        print(f\"density: {density(clf.coef_)}\")\n",
    "        print()\n",
    "\n",
    "    print()\n",
    "    if custom_name:\n",
    "        clf_descr = str(custom_name)\n",
    "    else:\n",
    "        clf_descr = clf.__class__.__name__\n",
    "    return clf_descr, score, train_time, test_time"
   ]
  },
  {
   "cell_type": "code",
   "execution_count": 10,
   "id": "0b0a3793",
   "metadata": {
    "execution": {
     "iopub.execute_input": "2023-03-07T01:00:16.409489Z",
     "iopub.status.busy": "2023-03-07T01:00:16.408759Z",
     "iopub.status.idle": "2023-03-07T01:00:21.346192Z",
     "shell.execute_reply": "2023-03-07T01:00:21.344179Z"
    },
    "papermill": {
     "duration": 4.949453,
     "end_time": "2023-03-07T01:00:21.350008",
     "exception": false,
     "start_time": "2023-03-07T01:00:16.400555",
     "status": "completed"
    },
    "tags": []
   },
   "outputs": [
    {
     "name": "stdout",
     "output_type": "stream",
     "text": [
      "================================================================================\n",
      "Logistic Regression\n",
      "________________________________________________________________________________\n",
      "Training: \n",
      "LogisticRegression(C=5, max_iter=1000)\n",
      "train time: 0.0972s\n",
      "test time:  0.000306s\n",
      "accuracy:   0.785\n",
      "dimensionality: 1924\n",
      "density: 1.0\n",
      "\n",
      "\n",
      "================================================================================\n",
      "Ridge Classifier\n",
      "________________________________________________________________________________\n",
      "Training: \n",
      "RidgeClassifier(solver='sparse_cg')\n",
      "train time: 0.0152s\n",
      "test time:  0.00036s\n",
      "accuracy:   0.783\n",
      "dimensionality: 1924\n",
      "density: 1.0\n",
      "\n",
      "\n",
      "================================================================================\n",
      "kNN\n",
      "________________________________________________________________________________\n",
      "Training: \n",
      "KNeighborsClassifier(n_neighbors=100)\n",
      "train time: 0.000982s\n",
      "test time:  0.535s\n",
      "accuracy:   0.736\n",
      "\n",
      "================================================================================\n",
      "Random Forest\n",
      "________________________________________________________________________________\n",
      "Training: \n",
      "RandomForestClassifier()\n",
      "train time: 3.73s\n",
      "test time:  0.196s\n",
      "accuracy:   0.781\n",
      "\n",
      "================================================================================\n",
      "Linear SVC\n",
      "________________________________________________________________________________\n",
      "Training: \n",
      "LinearSVC(C=0.1, dual=False)\n",
      "train time: 0.017s\n",
      "test time:  0.000994s\n",
      "accuracy:   0.799\n",
      "dimensionality: 1924\n",
      "density: 1.0\n",
      "\n",
      "\n",
      "================================================================================\n",
      "NearestCentroid\n",
      "________________________________________________________________________________\n",
      "Training: \n",
      "NearestCentroid()\n",
      "train time: 0.00272s\n",
      "test time:  0.000842s\n",
      "accuracy:   0.751\n",
      "\n",
      "================================================================================\n",
      "Complement naive Bayes\n",
      "________________________________________________________________________________\n",
      "Training: \n",
      "ComplementNB(alpha=0.1)\n",
      "train time: 0.00228s\n",
      "test time:  0.000356s\n",
      "accuracy:   0.787\n",
      "dimensionality: 1924\n",
      "density: 1.0\n",
      "\n",
      "\n"
     ]
    },
    {
     "name": "stderr",
     "output_type": "stream",
     "text": [
      "/opt/conda/lib/python3.7/site-packages/sklearn/utils/deprecation.py:103: FutureWarning: Attribute `coef_` was deprecated in version 0.24 and will be removed in 1.1 (renaming of 0.26).\n",
      "  warnings.warn(msg, category=FutureWarning)\n"
     ]
    }
   ],
   "source": [
    "from time import time\n",
    "from sklearn.linear_model import LogisticRegression\n",
    "from sklearn.linear_model import RidgeClassifier\n",
    "from sklearn.svm import LinearSVC\n",
    "from sklearn.naive_bayes import ComplementNB\n",
    "from sklearn.neighbors import KNeighborsClassifier\n",
    "from sklearn.neighbors import NearestCentroid\n",
    "from sklearn.ensemble import RandomForestClassifier\n",
    "\n",
    "\n",
    "results = []\n",
    "for clf, name in (\n",
    "    (LogisticRegression(C=5, max_iter=1000), \"Logistic Regression\"),\n",
    "    (RidgeClassifier(alpha=1.0, solver=\"sparse_cg\"), \"Ridge Classifier\"),\n",
    "    (KNeighborsClassifier(n_neighbors=100), \"kNN\"),\n",
    "    (RandomForestClassifier(), \"Random Forest\"),\n",
    "    # L2 penalty Linear SVC\n",
    "    (LinearSVC(C=0.1, dual=False, max_iter=1000), \"Linear SVC\"),\n",
    "    # NearestCentroid (aka Rocchio classifier)\n",
    "    (NearestCentroid(), \"NearestCentroid\"),\n",
    "    # Sparse naive Bayes classifier\n",
    "    (ComplementNB(alpha=0.1), \"Complement naive Bayes\"),\n",
    "):\n",
    "    print(\"=\" * 80)\n",
    "    print(name)\n",
    "    results.append(benchmark(clf, name))"
   ]
  },
  {
   "cell_type": "code",
   "execution_count": 11,
   "id": "edb1239e",
   "metadata": {
    "execution": {
     "iopub.execute_input": "2023-03-07T01:00:21.364581Z",
     "iopub.status.busy": "2023-03-07T01:00:21.364083Z",
     "iopub.status.idle": "2023-03-07T01:00:22.853650Z",
     "shell.execute_reply": "2023-03-07T01:00:22.851972Z"
    },
    "papermill": {
     "duration": 1.500645,
     "end_time": "2023-03-07T01:00:22.856749",
     "exception": false,
     "start_time": "2023-03-07T01:00:21.356104",
     "status": "completed"
    },
    "tags": []
   },
   "outputs": [
    {
     "data": {
      "image/png": "[encoded data removed]",
      "text/plain": [
       "<Figure size 1000x800 with 1 Axes>"
      ]
     },
     "metadata": {},
     "output_type": "display_data"
    },
    {
     "data": {
      "image/png": "[encoded data removed]",
      "text/plain": [
       "<Figure size 1000x800 with 1 Axes>"
      ]
     },
     "metadata": {},
     "output_type": "display_data"
    }
   ],
   "source": [
    "import matplotlib.pyplot as plt\n",
    "indices = np.arange(len(results))\n",
    "\n",
    "results = [[x[i] for x in results] for i in range(4)]\n",
    "\n",
    "clf_names, score, training_time, test_time = results\n",
    "training_time = np.array(training_time)\n",
    "test_time = np.array(test_time)\n",
    "\n",
    "fig, ax1 = plt.subplots(figsize=(10, 8))\n",
    "ax1.scatter(score, training_time, s=60)\n",
    "ax1.set(\n",
    "    title=\"Score-training time trade-off\",\n",
    "    yscale=\"log\",\n",
    "    xlabel=\"test accuracy\",\n",
    "    ylabel=\"training time (s)\",\n",
    ")\n",
    "fig, ax2 = plt.subplots(figsize=(10, 8))\n",
    "ax2.scatter(score, test_time, s=60)\n",
    "ax2.set(\n",
    "    title=\"Score-test time trade-off\",\n",
    "    yscale=\"log\",\n",
    "    xlabel=\"test accuracy\",\n",
    "    ylabel=\"test time (s)\",\n",
    ")\n",
    "\n",
    "for i, txt in enumerate(clf_names):\n",
    "    ax1.annotate(txt, (score[i], training_time[i]))\n",
    "    ax2.annotate(txt, (score[i], test_time[i]))"
   ]
  },
  {
   "cell_type": "markdown",
   "id": "8ce5095f",
   "metadata": {
    "papermill": {
     "duration": 0.007379,
     "end_time": "2023-03-07T01:00:22.871993",
     "exception": false,
     "start_time": "2023-03-07T01:00:22.864614",
     "status": "completed"
    },
    "tags": []
   },
   "source": [
    "# Linear SVC is the winner\n",
    "It's obvious that overall **LinearSVC** performs better than the other models. So we use it to make our predictions and submit the result."
   ]
  },
  {
   "cell_type": "code",
   "execution_count": 12,
   "id": "7da5800b",
   "metadata": {
    "execution": {
     "iopub.execute_input": "2023-03-07T01:00:22.889448Z",
     "iopub.status.busy": "2023-03-07T01:00:22.888936Z",
     "iopub.status.idle": "2023-03-07T01:00:22.913107Z",
     "shell.execute_reply": "2023-03-07T01:00:22.911812Z"
    },
    "papermill": {
     "duration": 0.036364,
     "end_time": "2023-03-07T01:00:22.915948",
     "exception": false,
     "start_time": "2023-03-07T01:00:22.879584",
     "status": "completed"
    },
    "tags": []
   },
   "outputs": [
    {
     "name": "stdout",
     "output_type": "stream",
     "text": [
      "Validation accuracy:\n",
      " 0.7994746059544658\n"
     ]
    }
   ],
   "source": [
    "from sklearn.metrics import accuracy_score\n",
    "clf = LinearSVC(C=0.1, dual=False, max_iter=1000)\n",
    "clf.fit(X1, y_train)\n",
    "pred = clf.predict(X1_val)\n",
    "print('Validation accuracy:\\n', accuracy_score(pred, y_val))"
   ]
  },
  {
   "cell_type": "code",
   "execution_count": 13,
   "id": "9b031e04",
   "metadata": {
    "execution": {
     "iopub.execute_input": "2023-03-07T01:00:22.934263Z",
     "iopub.status.busy": "2023-03-07T01:00:22.933390Z",
     "iopub.status.idle": "2023-03-07T01:00:23.240595Z",
     "shell.execute_reply": "2023-03-07T01:00:23.238903Z"
    },
    "papermill": {
     "duration": 0.32037,
     "end_time": "2023-03-07T01:00:23.244028",
     "exception": false,
     "start_time": "2023-03-07T01:00:22.923658",
     "status": "completed"
    },
    "tags": []
   },
   "outputs": [
    {
     "data": {
      "image/png": "[encoded data removed]",
      "text/plain": [
       "<Figure size 1000x500 with 2 Axes>"
      ]
     },
     "metadata": {},
     "output_type": "display_data"
    }
   ],
   "source": [
    "from sklearn.metrics import ConfusionMatrixDisplay\n",
    "\n",
    "fig, ax = plt.subplots(figsize=(10, 5))\n",
    "ConfusionMatrixDisplay.from_predictions(y_val, pred, ax=ax)\n",
    "_ = ax.set_title(\n",
    "    f\"Confusion Matrix for {clf.__class__.__name__}\"\n",
    ")"
   ]
  },
  {
   "cell_type": "code",
   "execution_count": 14,
   "id": "d3eba7c4",
   "metadata": {
    "execution": {
     "iopub.execute_input": "2023-03-07T01:00:23.263101Z",
     "iopub.status.busy": "2023-03-07T01:00:23.262604Z",
     "iopub.status.idle": "2023-03-07T01:00:23.338542Z",
     "shell.execute_reply": "2023-03-07T01:00:23.337232Z"
    },
    "papermill": {
     "duration": 0.089131,
     "end_time": "2023-03-07T01:00:23.341726",
     "exception": false,
     "start_time": "2023-03-07T01:00:23.252595",
     "status": "completed"
    },
    "tags": []
   },
   "outputs": [],
   "source": [
    "test1 = vectorizer.transform(test['text'])\n",
    "test_pred = clf.predict(test1)\n",
    "submission = pd.DataFrame({'id': test['id'], 'target': test_pred})\n",
    "submission.to_csv('submission.csv', index=False)"
   ]
  }
 ],
 "metadata": {
  "kernelspec": {
   "display_name": "Python 3",
   "language": "python",
   "name": "python3"
  },
  "language_info": {
   "codemirror_mode": {
    "name": "ipython",
    "version": 3
   },
   "file_extension": ".py",
   "mimetype": "text/x-python",
   "name": "python",
   "nbconvert_exporter": "python",
   "pygments_lexer": "ipython3",
   "version": "3.7.12"
  },
  "papermill": {
   "default_parameters": {},
   "duration": 26.14454,
   "end_time": "2023-03-07T01:00:24.476904",
   "environment_variables": {},
   "exception": null,
   "input_path": "__notebook__.ipynb",
   "output_path": "__notebook__.ipynb",
   "parameters": {},
   "start_time": "2023-03-07T00:59:58.332364",
   "version": "2.4.0"
  }
 },
 "nbformat": 4,
 "nbformat_minor": 5
}
